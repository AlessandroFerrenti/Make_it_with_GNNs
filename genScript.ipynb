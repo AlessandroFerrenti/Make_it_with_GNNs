{
 "cells": [
  {
   "cell_type": "code",
   "execution_count": 1,
   "id": "3e2319a6",
   "metadata": {},
   "outputs": [],
   "source": [
    "# !python3 gat.py  --dataset 'cora' --epochs 200 --weight-decay 5e-4 --lr 1e-2 --num-hidden 8\n",
    "# !python3 gcn.py  --dataset 'cora' --epochs 200 --weight-decay 5e-4 --lr 1e-2 --n-hidden 8\n",
    "# !python3 graphSage.py  --dataset 'cora' --n-epochs 200 --weight-decay 5e-4 --lr 1e-2 --n-hidden 8"
   ]
  },
  {
   "cell_type": "code",
   "execution_count": 2,
   "id": "09a781c2",
   "metadata": {},
   "outputs": [],
   "source": [
    "epochs_ = 1000\n",
    "dataset = ['cora', 'citeseer', 'pubmed']\n",
    "hidden = ['4','8','16','32']\n",
    "heads = 8\n",
    "lr = ['1e-2', '1e-3']\n",
    "weight_decay = ['5e-4', '5e-5']\n",
    "\n",
    "\n",
    "f = open(\"script.sh\", \"w\")\n",
    "\n",
    "for weight_decay_ in weight_decay:\n",
    "    for hidden_ in hidden:\n",
    "        for lr_ in lr:\n",
    "            for dataset_ in dataset:\n",
    "                f.write(f'python3 gat.py  --dataset {dataset_} --epochs 1000 --weight-decay {weight_decay_} --lr {lr_} --num-hidden {hidden_} \\n')\n",
    "                f.write(f'python3 gcn.py  --dataset {dataset_} --epochs 1000 --weight-decay {weight_decay_} --lr {lr_} --n-hidden {hidden_} \\n')\n",
    "                f.write(f'python3 graphSage.py  --dataset {dataset_} --n-epochs 1000 --weight-decay {weight_decay_} --lr {lr_} --n-hidden {hidden_} \\n')\n",
    "#                 !python3 gat.py  --dataset dataset_ --epochs 1000 --weight-decay weight_decay_ --lr lr_ --num-hidden hidden_\n",
    "#                 !python3 gcn.py  --dataset dataset_ --epochs 1000 --weight-decay weight_decay_ --lr lr_ --n-hidden hidden_\n",
    "#                 !python3 graphSage.py  --dataset dataset_ --n-epochs 1000 --weight-decay weight_decay_ --lr lr_ --n-hidden hidden_\n",
    "\n",
    "f.close()"
   ]
  },
  {
   "cell_type": "code",
   "execution_count": null,
   "id": "f7cbc618",
   "metadata": {},
   "outputs": [],
   "source": []
  }
 ],
 "metadata": {
  "kernelspec": {
   "display_name": "Python 3",
   "language": "python",
   "name": "python3"
  },
  "language_info": {
   "codemirror_mode": {
    "name": "ipython",
    "version": 3
   },
   "file_extension": ".py",
   "mimetype": "text/x-python",
   "name": "python",
   "nbconvert_exporter": "python",
   "pygments_lexer": "ipython3",
   "version": "3.8.13"
  }
 },
 "nbformat": 4,
 "nbformat_minor": 5
}
